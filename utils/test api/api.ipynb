{
 "cells": [
  {
   "cell_type": "code",
   "execution_count": 5,
   "metadata": {},
   "outputs": [
    {
     "name": "stdout",
     "output_type": "stream",
     "text": [
      "Hôm nay là ngày 29 tháng 11 năm 2021.\n"
     ]
    }
   ],
   "source": [
    "from openai import OpenAI\n",
    "\n",
    "client = OpenAI(\n",
    "    # defaults to os.environ.get(\"OPENAI_API_KEY\")\n",
    "    api_key=\"sk-jaMNL109Qb9M6AIQGGwxWJ8ayIhQVx2NWY2poW0kPS1ltd8w\",\n",
    "    base_url=\"https://api.chatanywhere.tech/v1\"\n",
    ")\n",
    "\n",
    "# 非流式响应\n",
    "def gpt_35_api(messages: list):\n",
    "    \"\"\"为提供的对话消息创建新的回答\n",
    "\n",
    "    Args:\n",
    "        messages (list): 完整的对话消息\n",
    "    \"\"\"\n",
    "    completion = client.chat.completions.create(model=\"gpt-3.5-turbo\", messages=messages)\n",
    "    print(completion)\n",
    "\n",
    "def gpt_35_api_stream(messages: list):\n",
    "    \"\"\"为提供的对话消息创建新的回答 (流式传输)\n",
    "\n",
    "    Args:\n",
    "        messages (list): 完整的对话消息\n",
    "    \"\"\"\n",
    "    stream = client.chat.completions.create(\n",
    "        model='gpt-3.5-turbo',\n",
    "        messages=messages,\n",
    "        stream=True,\n",
    "    )\n",
    "    for chunk in stream:\n",
    "        if chunk.choices[0].delta.content is not None:\n",
    "            print(chunk.choices[0].delta.content, end=\"\")\n",
    "\n",
    "if __name__ == '__main__':\n",
    "    messages = [{'role': 'user','content': 'hôm nay là ngày bao nhiêu'},]\n",
    "    # gpt_35_api(messages)\n",
    "    completion = client.chat.completions.create(\n",
    "            model=\"gpt-3.5-turbo\",\n",
    "            messages=messages\n",
    "        )\n",
    "    print(completion.choices[0].message.content)"
   ]
  }
 ],
 "metadata": {
  "kernelspec": {
   "display_name": "base",
   "language": "python",
   "name": "python3"
  },
  "language_info": {
   "codemirror_mode": {
    "name": "ipython",
    "version": 3
   },
   "file_extension": ".py",
   "mimetype": "text/x-python",
   "name": "python",
   "nbconvert_exporter": "python",
   "pygments_lexer": "ipython3",
   "version": "3.10.9"
  }
 },
 "nbformat": 4,
 "nbformat_minor": 2
}
